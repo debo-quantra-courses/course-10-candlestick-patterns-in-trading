{
 "cells": [
  {
   "cell_type": "markdown",
   "id": "ca104e1a",
   "metadata": {},
   "source": [
    "# Notebook Instructions\n",
    "\n",
    "1. If you are new to Jupyter notebooks, please go through this introductory manual <a href='https://quantra.quantinsti.com/quantra-notebook' target=\"_blank\">here</a>.\n",
    "1. Any changes made in this notebook would be lost after you close the browser window. **You can download the notebook to save your work on your PC.**\n",
    "1. Before running this notebook on your local PC:<br>\n",
    "i.  You need to set up a Python environment and the relevant packages on your local PC. To do so, go through the section on \"**Run Codes Locally on Your Machine**\" in the course.<br>\n",
    "ii. You need to **download the zip file available in the last unit** of this course. The zip file contains the data files and/or python modules that might be required to run this notebook."
   ]
  },
  {
   "cell_type": "markdown",
   "id": "f15cd2f6",
   "metadata": {},
   "source": [
    "## Performance Metrics\n",
    "\n",
    "In the previous notebook, you learned about trade level analytics which help you evaluate your strategy after a trade has been executed. However, these metrics do not consider how the strategy performed within a trade. \n",
    "\n",
    "In this notebook, you will learn about some popular metrics which help you analyse in depth what happens between entry and exit time. The notebook is structured as follows:\n",
    "1. [Read the Data](#read)\n",
    "2. [Different Performance Measures](#perf)<br>\n",
    "   2.1. [Equity Curve](#equi)<br>\n",
    "   2.2. [CAGR](#cagr)<br>\n",
    "   2.3. [Annualised Volatility](#vol)<br>\n",
    "   2.4. [Sharpe Ratio](#sharpe)<br>\n",
    "   2.5. [Maximum Drawdown](#mdd)<br>\n",
    "   \n",
    "## Import the Libraries "
   ]
  },
  {
   "cell_type": "code",
   "execution_count": 1,
   "id": "909a92ed",
   "metadata": {},
   "outputs": [],
   "source": [
    "# For data manipulation\n",
    "import pandas as pd\n",
    "import numpy as np\n",
    "import datetime\n",
    "\n",
    "# For plotting\n",
    "import matplotlib.pyplot as plt\n",
    "%matplotlib inline\n",
    "plt.style.use('seaborn-darkgrid')"
   ]
  },
  {
   "cell_type": "markdown",
   "id": "9c0ee545",
   "metadata": {},
   "source": [
    "<a id='read'></a>\n",
    "## Read the Data \n",
    "\n",
    "We have saved the AAPL price data and trade signals in the CSV file named `trading_signals.csv`. We will also need the trade details saved in `trades.csv`. You can read these files using the `pandas.read_csv()` method. "
   ]
  },
  {
   "cell_type": "code",
   "execution_count": 2,
   "id": "bd968201",
   "metadata": {},
   "outputs": [
    {
     "data": {
      "text/html": [
       "<div>\n",
       "<style scoped>\n",
       "    .dataframe tbody tr th:only-of-type {\n",
       "        vertical-align: middle;\n",
       "    }\n",
       "\n",
       "    .dataframe tbody tr th {\n",
       "        vertical-align: top;\n",
       "    }\n",
       "\n",
       "    .dataframe thead th {\n",
       "        text-align: right;\n",
       "    }\n",
       "</style>\n",
       "<table border=\"1\" class=\"dataframe\">\n",
       "  <thead>\n",
       "    <tr style=\"text-align: right;\">\n",
       "      <th></th>\n",
       "      <th>Entry_Date</th>\n",
       "      <th>Entry_Price</th>\n",
       "      <th>Exit_Date</th>\n",
       "      <th>Exit_Type</th>\n",
       "      <th>Exit_Price</th>\n",
       "      <th>PnL</th>\n",
       "    </tr>\n",
       "  </thead>\n",
       "  <tbody>\n",
       "    <tr>\n",
       "      <th>0</th>\n",
       "      <td>2017-10-06</td>\n",
       "      <td>38.742500</td>\n",
       "      <td>2017-10-16</td>\n",
       "      <td>TP</td>\n",
       "      <td>39.970001</td>\n",
       "      <td>1.23</td>\n",
       "    </tr>\n",
       "    <tr>\n",
       "      <th>1</th>\n",
       "      <td>2018-01-11</td>\n",
       "      <td>43.647499</td>\n",
       "      <td>2018-01-12</td>\n",
       "      <td>TP</td>\n",
       "      <td>44.272499</td>\n",
       "      <td>0.62</td>\n",
       "    </tr>\n",
       "    <tr>\n",
       "      <th>2</th>\n",
       "      <td>2018-02-15</td>\n",
       "      <td>42.447498</td>\n",
       "      <td>2018-05-04</td>\n",
       "      <td>TP</td>\n",
       "      <td>45.957500</td>\n",
       "      <td>3.51</td>\n",
       "    </tr>\n",
       "    <tr>\n",
       "      <th>3</th>\n",
       "      <td>2018-05-11</td>\n",
       "      <td>47.372501</td>\n",
       "      <td>2018-06-25</td>\n",
       "      <td>SL</td>\n",
       "      <td>45.542500</td>\n",
       "      <td>-1.83</td>\n",
       "    </tr>\n",
       "    <tr>\n",
       "      <th>4</th>\n",
       "      <td>2018-09-25</td>\n",
       "      <td>54.937500</td>\n",
       "      <td>2018-09-27</td>\n",
       "      <td>TP</td>\n",
       "      <td>56.237499</td>\n",
       "      <td>1.30</td>\n",
       "    </tr>\n",
       "  </tbody>\n",
       "</table>\n",
       "</div>"
      ],
      "text/plain": [
       "   Entry_Date  Entry_Price   Exit_Date Exit_Type  Exit_Price   PnL\n",
       "0  2017-10-06    38.742500  2017-10-16        TP   39.970001  1.23\n",
       "1  2018-01-11    43.647499  2018-01-12        TP   44.272499  0.62\n",
       "2  2018-02-15    42.447498  2018-05-04        TP   45.957500  3.51\n",
       "3  2018-05-11    47.372501  2018-06-25        SL   45.542500 -1.83\n",
       "4  2018-09-25    54.937500  2018-09-27        TP   56.237499  1.30"
      ]
     },
     "execution_count": 2,
     "metadata": {},
     "output_type": "execute_result"
    }
   ],
   "source": [
    "# Read AAPL price data and trade signal\n",
    "data = pd.read_csv('../data_modules/marubozu_trading_signals.csv',\n",
    "                   parse_dates=['Date'], index_col='Date')\n",
    "\n",
    "# Read the trade details\n",
    "trades = pd.read_csv('../data_modules/marubozu_trades.csv', index_col=0)\n",
    "trades.head()"
   ]
  },
  {
   "cell_type": "markdown",
   "id": "ed6d0868",
   "metadata": {},
   "source": [
    "<a id='perf'></a>\n",
    "## Different Performance Measures\n",
    "\n",
    "Before investing in a strategy you should have a clear understanding of its performance within trades. Just looking at the entry and exit values is not enough. You should also be able to answer questions like:<br>\n",
    "\n",
    "<b>How much risk are you undertaking with this trading strategy?</b><br>\n",
    "<b>How much drawdown should you expect with this strategy?</b><br>\n",
    "\n",
    "Therefore, we have broken down some popular performance metrics to answer these questions. \n",
    "\n",
    "We will start by creating a dataframe `performance_metrics` to store all the values we calculate in this notebook. "
   ]
  },
  {
   "cell_type": "code",
   "execution_count": 3,
   "id": "9be97fc4",
   "metadata": {},
   "outputs": [],
   "source": [
    "# Create a dataframe to store performance metrics\n",
    "performance_metrics = pd.DataFrame(index=['Strategy'])"
   ]
  },
  {
   "cell_type": "markdown",
   "id": "1ffa5b71",
   "metadata": {},
   "source": [
    "<a id='equi'></a>\n",
    "### Equity Curve\n",
    "\n",
    "An equity curve helps you visualise how the strategy returns have changed over a period of time. If the curve has a consistently positive slope, it indicates that the trading strategy is profitable. A negative slope shows that it is generating negative returns.\n",
    "\n",
    "The equity curve also helps in visualising the drawdowns incurred within a strategy. \n",
    "\n",
    "To find the equity curve, we will first calculate the strategy's returns and then calculate the cumulative returns. Finally, we will plot the `Cumulative_Returns` column of our dataset."
   ]
  },
  {
   "cell_type": "code",
   "execution_count": 4,
   "id": "53781138",
   "metadata": {},
   "outputs": [
    {
     "data": {
      "image/png": "[encoded data removed]",
      "text/plain": [
       "<Figure size 1080x504 with 1 Axes>"
      ]
     },
     "metadata": {},
     "output_type": "display_data"
    }
   ],
   "source": [
    "# Calculate strategy returns\n",
    "data['Strategy_Returns'] = data.trade_signal.shift(1) * data.Close.pct_change()\n",
    "\n",
    "# Calculate cumulative strategy returns\n",
    "data['Cumulative_Returns'] = (data['Strategy_Returns'] + 1.0).cumprod()\n",
    "\n",
    "# Plot the cumulative strategy returns\n",
    "(data['Cumulative_Returns'].plot(figsize=(15, 7), color='purple'))\n",
    "plt.title('Equity Curve', fontsize=14)\n",
    "plt.ylabel('Cumulative Returns')\n",
    "plt.show()"
   ]
  },
  {
   "cell_type": "markdown",
   "id": "549278bb",
   "metadata": {},
   "source": [
    "Overall, we can see the curve shows an increase in returns.  But through an equity curve, we can also analyse what happened within the trades. Let us take an example of a losing trade from our trade sheet. "
   ]
  },
  {
   "cell_type": "code",
   "execution_count": 5,
   "id": "48ec55c3",
   "metadata": {},
   "outputs": [
    {
     "data": {
      "image/png": "[encoded data removed]",
      "text/plain": [
       "<Figure size 1080x504 with 1 Axes>"
      ]
     },
     "metadata": {},
     "output_type": "display_data"
    }
   ],
   "source": [
    "# Find entry and exit dates of largest loss\n",
    "loss_entry = trades[trades.PnL == trades.PnL.min()]['Entry_Date'].values[0]\n",
    "loss_exit = trades[trades.PnL == trades.PnL.min()]['Exit_Date'].values[0]\n",
    "\n",
    "# Convert to datetime\n",
    "loss_entry_date = datetime.datetime.strptime(loss_entry, '%Y-%m-%d')\n",
    "loss_exit_date = datetime.datetime.strptime(loss_exit, '%Y-%m-%d')\n",
    "\n",
    "# Plot the points on equity curve\n",
    "plt.figure(figsize=(15, 7))\n",
    "plt.plot(data['Cumulative_Returns'], color='purple')\n",
    "plt.plot(loss_entry_date,\n",
    "         data.loc[loss_entry_date].Cumulative_Returns, 'v', color='r', markersize=8)\n",
    "plt.plot(loss_exit_date,\n",
    "         data.loc[loss_exit_date].Cumulative_Returns, 'v', color='r', markersize=8)\n",
    "plt.title('Equity Curve', fontsize=14)\n",
    "plt.xlabel('Date')\n",
    "plt.ylabel('Cumulative Returns')\n",
    "plt.show()"
   ]
  },
  {
   "cell_type": "markdown",
   "id": "2757ae4e",
   "metadata": {},
   "source": [
    "The entry and exit dates are shown by the two red markers in the above graph. With the equity curve, you can see that there was a small spike in this losing trade before its price fell again.\n",
    "\n",
    "<a id='cagr'></a>\n",
    "### CAGR\n",
    "CAGR stands for compound annual growth rate. It is the measure of a strategy's annual growth rate over time, with the effect of compounding taken into account. It is calculated by the following formula: \n",
    "\n",
    "$$ CAGR = \\left(\\left(\\frac{EV}{BV}\\right)^{\\frac{1}{n}} -1\\right)*100 $$\n",
    "\n",
    "where\n",
    "* $EV$ is the ending value\n",
    "* $BV$ is the beginning value\n",
    "* $n$ is the number of years\n"
   ]
  },
  {
   "cell_type": "code",
   "execution_count": 6,
   "id": "494ae1c9",
   "metadata": {},
   "outputs": [
    {
     "data": {
      "text/html": [
       "<div>\n",
       "<style scoped>\n",
       "    .dataframe tbody tr th:only-of-type {\n",
       "        vertical-align: middle;\n",
       "    }\n",
       "\n",
       "    .dataframe tbody tr th {\n",
       "        vertical-align: top;\n",
       "    }\n",
       "\n",
       "    .dataframe thead th {\n",
       "        text-align: right;\n",
       "    }\n",
       "</style>\n",
       "<table border=\"1\" class=\"dataframe\">\n",
       "  <thead>\n",
       "    <tr style=\"text-align: right;\">\n",
       "      <th></th>\n",
       "      <th>Strategy</th>\n",
       "    </tr>\n",
       "  </thead>\n",
       "  <tbody>\n",
       "    <tr>\n",
       "      <th>CAGR</th>\n",
       "      <td>17.09%</td>\n",
       "    </tr>\n",
       "  </tbody>\n",
       "</table>\n",
       "</div>"
      ],
      "text/plain": [
       "     Strategy\n",
       "CAGR   17.09%"
      ]
     },
     "execution_count": 6,
     "metadata": {},
     "output_type": "execute_result"
    }
   ],
   "source": [
    "# Total number of trading days\n",
    "days = len(data['Cumulative_Returns'])\n",
    "\n",
    "# Calculate compounded annual growth rate\n",
    "performance_metrics['CAGR'] = \"{0:.2f}%\".format(\n",
    "    (data.Cumulative_Returns.iloc[-1]**(252/days)-1)*100)\n",
    "\n",
    "performance_metrics.T"
   ]
  },
  {
   "cell_type": "markdown",
   "id": "05ede0a4",
   "metadata": {},
   "source": [
    "We have got a CAGR of 17.09%. This means our initial capital grew annually by 17.09% with this strategy. \n",
    "<a id='hist'></a>\n",
    "### Histogram of Returns\n",
    "A histogram of returns is a chart that shows us the distribution of our strategy returns.\n",
    "\n",
    "We will plot the histogram of `Strategy_Returns` returns using the `hist` method. "
   ]
  },
  {
   "cell_type": "code",
   "execution_count": 7,
   "id": "8ed5a6cd",
   "metadata": {},
   "outputs": [
    {
     "data": {
      "image/png": "[encoded data removed]",
      "text/plain": [
       "<Figure size 1080x504 with 1 Axes>"
      ]
     },
     "metadata": {},
     "output_type": "display_data"
    }
   ],
   "source": [
    "# Plot the histogram of returns\n",
    "data.Strategy_Returns.hist(bins=50, figsize=(15, 7), color='royalblue')\n",
    "plt.title('Histogram of Returns', fontsize=14)\n",
    "plt.xlabel('Daily Returns')\n",
    "plt.ylabel('Frequency')\n",
    "plt.show()"
   ]
  },
  {
   "cell_type": "markdown",
   "id": "90942b1e",
   "metadata": {},
   "source": [
    "<a id='vol'></a>\n",
    "### Annualised Volatility\n",
    "Volatility is the rate at which the price of a security increases or decreases for a given set of returns over a period of time. \n",
    "\n",
    "We will calculate the annualised volatility by taking the standard deviation of the `strategy_ret`. To annualise them we will multiply it by the square root of 252. "
   ]
  },
  {
   "cell_type": "code",
   "execution_count": 8,
   "id": "a6b8608e",
   "metadata": {},
   "outputs": [
    {
     "data": {
      "text/html": [
       "<div>\n",
       "<style scoped>\n",
       "    .dataframe tbody tr th:only-of-type {\n",
       "        vertical-align: middle;\n",
       "    }\n",
       "\n",
       "    .dataframe tbody tr th {\n",
       "        vertical-align: top;\n",
       "    }\n",
       "\n",
       "    .dataframe thead th {\n",
       "        text-align: right;\n",
       "    }\n",
       "</style>\n",
       "<table border=\"1\" class=\"dataframe\">\n",
       "  <thead>\n",
       "    <tr style=\"text-align: right;\">\n",
       "      <th></th>\n",
       "      <th>Strategy</th>\n",
       "    </tr>\n",
       "  </thead>\n",
       "  <tbody>\n",
       "    <tr>\n",
       "      <th>CAGR</th>\n",
       "      <td>17.09%</td>\n",
       "    </tr>\n",
       "    <tr>\n",
       "      <th>Annualised Volatility</th>\n",
       "      <td>14.01%</td>\n",
       "    </tr>\n",
       "  </tbody>\n",
       "</table>\n",
       "</div>"
      ],
      "text/plain": [
       "                      Strategy\n",
       "CAGR                    17.09%\n",
       "Annualised Volatility   14.01%"
      ]
     },
     "execution_count": 8,
     "metadata": {},
     "output_type": "execute_result"
    }
   ],
   "source": [
    "# Calculate annualised volatility\n",
    "performance_metrics['Annualised Volatility'] = \"{0:.2f}%\".format(\n",
    "    data['Strategy_Returns'].std()*np.sqrt(252) * 100)\n",
    "\n",
    "performance_metrics.T"
   ]
  },
  {
   "cell_type": "markdown",
   "id": "ff9843b5",
   "metadata": {},
   "source": [
    "The strategy's annualised volatility works out to be 14.01%. This indicates that the returns for our strategy returns can fluctuate by 14.01% on an average in a year. \n",
    "\n",
    "<a id='sharpe'></a>\n",
    "### Sharpe Ratio\n",
    "\n",
    "Sharpe ratio measures the performance of a strategy when compared to a risk-free rate. It is the ratio of the returns earned in excess of the risk-free rate to the volatility. \n",
    "It is calculated as below:\n",
    "$$ Sharpe~ratio = \\frac{R_x-R_f}{\\sigma_x}$$\n",
    "\n",
    "where\n",
    "* $R_x$ is the mean return of the strategy\n",
    "* $R_f$ is the risk-free rate\n",
    "* $\\sigma_x$ is the volatility\n",
    "\n",
    "Sharpe ratios greater than 1 are preferable, as it means your returns are greater given the risk you are taking. Generally, a strategy with a higher Sharpe ratio will be preferred over a strategy with a lower Sharpe ratio."
   ]
  },
  {
   "cell_type": "code",
   "execution_count": 9,
   "id": "0e576aa2",
   "metadata": {},
   "outputs": [
    {
     "data": {
      "text/html": [
       "<div>\n",
       "<style scoped>\n",
       "    .dataframe tbody tr th:only-of-type {\n",
       "        vertical-align: middle;\n",
       "    }\n",
       "\n",
       "    .dataframe tbody tr th {\n",
       "        vertical-align: top;\n",
       "    }\n",
       "\n",
       "    .dataframe thead th {\n",
       "        text-align: right;\n",
       "    }\n",
       "</style>\n",
       "<table border=\"1\" class=\"dataframe\">\n",
       "  <thead>\n",
       "    <tr style=\"text-align: right;\">\n",
       "      <th></th>\n",
       "      <th>Strategy</th>\n",
       "    </tr>\n",
       "  </thead>\n",
       "  <tbody>\n",
       "    <tr>\n",
       "      <th>CAGR</th>\n",
       "      <td>17.09%</td>\n",
       "    </tr>\n",
       "    <tr>\n",
       "      <th>Annualised Volatility</th>\n",
       "      <td>14.01%</td>\n",
       "    </tr>\n",
       "    <tr>\n",
       "      <th>Sharpe Ratio</th>\n",
       "      <td>1.054399</td>\n",
       "    </tr>\n",
       "  </tbody>\n",
       "</table>\n",
       "</div>"
      ],
      "text/plain": [
       "                       Strategy\n",
       "CAGR                     17.09%\n",
       "Annualised Volatility    14.01%\n",
       "Sharpe Ratio           1.054399"
      ]
     },
     "execution_count": 9,
     "metadata": {},
     "output_type": "execute_result"
    }
   ],
   "source": [
    "# Set a risk-free rate\n",
    "risk_free_rate = 0.02/252\n",
    "\n",
    "# Calculate Sharpe ratio\n",
    "performance_metrics['Sharpe Ratio'] = np.sqrt(252)*(np.mean(data.Strategy_Returns) -\n",
    "                                                    (risk_free_rate))/np.std(data.Strategy_Returns)\n",
    "\n",
    "performance_metrics.T"
   ]
  },
  {
   "cell_type": "markdown",
   "id": "f286ef00",
   "metadata": {},
   "source": [
    "Here, our Sharpe ratio comes out to be 1.05, which means to gain 1.05 dollars you are risking 1 dollar. \n",
    "<a id='mdd'></a>\n",
    "### Maximum Drawdown\n",
    "Maximum drawdown is one of the key measures to assess the risk in a strategy.  In your trading strategy, your returns reduce in value multiple times. These reductions in value are known as drawdowns. The maximum of these drawdown values gives us an estimate of the maximum loss a strategy can incur. Technically, it is defined as the maximum loss from peak to trough for a portfolio.\n",
    "\n",
    "It signifies the maximum loss from a peak to a trough of a strategy and is expressed in percentage terms. It can be calculated by the following formula: \n",
    "\n",
    "$$ Maximum ~Drawdown = \\frac{Peak ~value - Trough ~value }{Peak ~value} $$\n",
    "\n",
    "Generally, a lower magnitude of maximum drawdown is desired. \n"
   ]
  },
  {
   "cell_type": "code",
   "execution_count": 10,
   "id": "a5d5f2c0",
   "metadata": {},
   "outputs": [
    {
     "data": {
      "text/html": [
       "<div>\n",
       "<style scoped>\n",
       "    .dataframe tbody tr th:only-of-type {\n",
       "        vertical-align: middle;\n",
       "    }\n",
       "\n",
       "    .dataframe tbody tr th {\n",
       "        vertical-align: top;\n",
       "    }\n",
       "\n",
       "    .dataframe thead th {\n",
       "        text-align: right;\n",
       "    }\n",
       "</style>\n",
       "<table border=\"1\" class=\"dataframe\">\n",
       "  <thead>\n",
       "    <tr style=\"text-align: right;\">\n",
       "      <th></th>\n",
       "      <th>Strategy</th>\n",
       "    </tr>\n",
       "  </thead>\n",
       "  <tbody>\n",
       "    <tr>\n",
       "      <th>CAGR</th>\n",
       "      <td>17.09%</td>\n",
       "    </tr>\n",
       "    <tr>\n",
       "      <th>Annualised Volatility</th>\n",
       "      <td>14.01%</td>\n",
       "    </tr>\n",
       "    <tr>\n",
       "      <th>Sharpe Ratio</th>\n",
       "      <td>1.054399</td>\n",
       "    </tr>\n",
       "    <tr>\n",
       "      <th>Maximum Drawdown</th>\n",
       "      <td>-15.69%</td>\n",
       "    </tr>\n",
       "  </tbody>\n",
       "</table>\n",
       "</div>"
      ],
      "text/plain": [
       "                       Strategy\n",
       "CAGR                     17.09%\n",
       "Annualised Volatility    14.01%\n",
       "Sharpe Ratio           1.054399\n",
       "Maximum Drawdown        -15.69%"
      ]
     },
     "execution_count": 10,
     "metadata": {},
     "output_type": "execute_result"
    }
   ],
   "source": [
    "# Compute the cumulative maximum\n",
    "data['Peak'] = data['Cumulative_Returns'].cummax()\n",
    "\n",
    "# Compute the Drawdown\n",
    "data['Drawdown'] = ((data['Cumulative_Returns']-data['Peak'])/data['Peak'])\n",
    "\n",
    "# Compute the maximum drawdown\n",
    "performance_metrics['Maximum Drawdown'] =  \"{0:.2f}%\".format((data['Drawdown'].min())*100)\n",
    " \n",
    "performance_metrics.T"
   ]
  },
  {
   "cell_type": "markdown",
   "id": "5fd7c378",
   "metadata": {},
   "source": [
    "Thus, the maximum drawdown comes out to be -15.69%. This means you can expect to lose a maximum of around 15.69% when trading with this strategy. Let us also plot all the drawdowns to get an idea of how frequently they occur. "
   ]
  },
  {
   "cell_type": "code",
   "execution_count": 11,
   "id": "e40e148e",
   "metadata": {},
   "outputs": [
    {
     "data": {
      "image/png": "[encoded data removed]",
      "text/plain": [
       "<Figure size 1080x504 with 1 Axes>"
      ]
     },
     "metadata": {},
     "output_type": "display_data"
    }
   ],
   "source": [
    "# Define size of graph\n",
    "plt.figure(figsize=(15, 7))\n",
    "\n",
    "# Set the title and axis labels\n",
    "plt.title('Strategy Drawdowns', fontsize=14)\n",
    "plt.ylabel('Drawdown(%)', fontsize=12)\n",
    "plt.xlabel('Year', fontsize=12)\n",
    "\n",
    "# Plot max drawdown\n",
    "plt.plot(data['Drawdown'], color='red')\n",
    "\n",
    "# Fill in-between the drawdown\n",
    "plt.fill_between(data['Drawdown'].index, data['Drawdown'].values, color='red')\n",
    "plt.show()"
   ]
  },
  {
   "cell_type": "markdown",
   "id": "84cdd960",
   "metadata": {},
   "source": [
    "## Conclusion\n",
    "In this notebook, we learned how to evaluate a strategy's performance in between the entry and exit times and also analyse the risk involved in undertaking these trades. "
   ]
  }
 ],
 "metadata": {
  "kernelspec": {
   "display_name": "Python 3 (ipykernel)",
   "language": "python",
   "name": "python3"
  },
  "language_info": {
   "codemirror_mode": {
    "name": "ipython",
    "version": 3
   },
   "file_extension": ".py",
   "mimetype": "text/x-python",
   "name": "python",
   "nbconvert_exporter": "python",
   "pygments_lexer": "ipython3",
   "version": "3.9.5"
  }
 },
 "nbformat": 4,
 "nbformat_minor": 5
}
