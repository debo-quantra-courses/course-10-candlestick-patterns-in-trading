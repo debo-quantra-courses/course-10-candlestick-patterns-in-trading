{
 "cells": [
  {
   "cell_type": "markdown",
   "id": "d6f96eef",
   "metadata": {},
   "source": [
    "# Notebook Instructions\n",
    "\n",
    "1. If you are new to Jupyter notebooks, please go through this introductory manual <a href='https://quantra.quantinsti.com/quantra-notebook' target=\"_blank\">here</a>.\n",
    "1. Any changes made in this notebook would be lost after you close the browser window. **You can download the notebook to save your work on your PC.**\n",
    "1. Before running this notebook on your local PC:<br>\n",
    "i.  You need to set up a Python environment and the relevant packages on your local PC. To do so, go through the section on \"**Run Codes Locally on Your Machine**\" in the course.<br>\n",
    "ii. You need to **download the zip file available in the last unit** of this course. The zip file contains the data files and/or python modules that might be required to run this notebook."
   ]
  },
  {
   "cell_type": "markdown",
   "id": "a8224a40",
   "metadata": {},
   "source": [
    "## Trade Analytics\n",
    "\n",
    "In the previous notebook, you learned how to define a strategy's trading conditions and generate signals over a historical time period.\n",
    "\n",
    "In this notebook, you will learn how to evaluate the performance of your trading strategy. Simply looking at the overall profit or loss is not the most effective way to analyse a trading strategy. To assess if a strategy is viable, we must also analyse factors such as time taken, number of trades, and average profit or loss on each trade.\n",
    "The key steps are:\n",
    "1. [Read the Data](#read)\n",
    "2. [Different Trade Level Analytics](#trade)<br>\n",
    "   2.1. [Profit and Loss](#pnl)<br>\n",
    "   2.2. [Win Percentage](#win)<br>\n",
    "   2.3. [Average Profit Per Trade](#avg)<br>\n",
    "   2.4. [Average Trade Duration](#time)<br>\n",
    "   2.5. [Profit Factor](#profit)<br>"
   ]
  },
  {
   "cell_type": "code",
   "execution_count": 1,
   "id": "a260891f",
   "metadata": {},
   "outputs": [],
   "source": [
    "# For Data manipulation\n",
    "import pandas as pd\n",
    "import numpy as np\n",
    "\n",
    "# For plotting\n",
    "import matplotlib.pyplot as plt\n",
    "%matplotlib inline\n",
    "plt.style.use('seaborn-darkgrid')"
   ]
  },
  {
   "cell_type": "markdown",
   "id": "b537a71d",
   "metadata": {},
   "source": [
    "<a id='read'></a>\n",
    "## Read the Data \n",
    "\n",
    "We have saved the trades data in a CSV file named `marubozu_trades.csv`. You can read the file using the `pandas.read_csv()` method. "
   ]
  },
  {
   "cell_type": "code",
   "execution_count": 2,
   "id": "11e0e139",
   "metadata": {},
   "outputs": [
    {
     "data": {
      "text/html": [
       "<div>\n",
       "<style scoped>\n",
       "    .dataframe tbody tr th:only-of-type {\n",
       "        vertical-align: middle;\n",
       "    }\n",
       "\n",
       "    .dataframe tbody tr th {\n",
       "        vertical-align: top;\n",
       "    }\n",
       "\n",
       "    .dataframe thead th {\n",
       "        text-align: right;\n",
       "    }\n",
       "</style>\n",
       "<table border=\"1\" class=\"dataframe\">\n",
       "  <thead>\n",
       "    <tr style=\"text-align: right;\">\n",
       "      <th></th>\n",
       "      <th>Entry_Date</th>\n",
       "      <th>Entry_Price</th>\n",
       "      <th>Exit_Date</th>\n",
       "      <th>Exit_Type</th>\n",
       "      <th>Exit_Price</th>\n",
       "      <th>PnL</th>\n",
       "    </tr>\n",
       "  </thead>\n",
       "  <tbody>\n",
       "    <tr>\n",
       "      <th>0</th>\n",
       "      <td>2017-10-06</td>\n",
       "      <td>38.742500</td>\n",
       "      <td>2017-10-16</td>\n",
       "      <td>TP</td>\n",
       "      <td>39.970001</td>\n",
       "      <td>1.23</td>\n",
       "    </tr>\n",
       "    <tr>\n",
       "      <th>1</th>\n",
       "      <td>2018-01-11</td>\n",
       "      <td>43.647499</td>\n",
       "      <td>2018-01-12</td>\n",
       "      <td>TP</td>\n",
       "      <td>44.272499</td>\n",
       "      <td>0.62</td>\n",
       "    </tr>\n",
       "    <tr>\n",
       "      <th>2</th>\n",
       "      <td>2018-02-15</td>\n",
       "      <td>42.447498</td>\n",
       "      <td>2018-05-04</td>\n",
       "      <td>TP</td>\n",
       "      <td>45.957500</td>\n",
       "      <td>3.51</td>\n",
       "    </tr>\n",
       "    <tr>\n",
       "      <th>3</th>\n",
       "      <td>2018-05-11</td>\n",
       "      <td>47.372501</td>\n",
       "      <td>2018-06-25</td>\n",
       "      <td>SL</td>\n",
       "      <td>45.542500</td>\n",
       "      <td>-1.83</td>\n",
       "    </tr>\n",
       "    <tr>\n",
       "      <th>4</th>\n",
       "      <td>2018-09-25</td>\n",
       "      <td>54.937500</td>\n",
       "      <td>2018-09-27</td>\n",
       "      <td>TP</td>\n",
       "      <td>56.237499</td>\n",
       "      <td>1.30</td>\n",
       "    </tr>\n",
       "  </tbody>\n",
       "</table>\n",
       "</div>"
      ],
      "text/plain": [
       "   Entry_Date  Entry_Price   Exit_Date Exit_Type  Exit_Price   PnL\n",
       "0  2017-10-06    38.742500  2017-10-16        TP   39.970001  1.23\n",
       "1  2018-01-11    43.647499  2018-01-12        TP   44.272499  0.62\n",
       "2  2018-02-15    42.447498  2018-05-04        TP   45.957500  3.51\n",
       "3  2018-05-11    47.372501  2018-06-25        SL   45.542500 -1.83\n",
       "4  2018-09-25    54.937500  2018-09-27        TP   56.237499  1.30"
      ]
     },
     "execution_count": 2,
     "metadata": {},
     "output_type": "execute_result"
    }
   ],
   "source": [
    "# Read the data\n",
    "trades = pd.read_csv('../data_modules/marubozu_trades.csv', index_col=0)\n",
    "\n",
    "trades.head()"
   ]
  },
  {
   "cell_type": "markdown",
   "id": "06aaf791",
   "metadata": {},
   "source": [
    "<a id='trade'></a>\n",
    "## Different Trade Level Analytics\n",
    "\n",
    "In this section, we will look at some different trade level analytics. \n",
    "\n",
    "First, we will create a dataframe named `analytics` to store all the metrics we calculate in this notebook. "
   ]
  },
  {
   "cell_type": "code",
   "execution_count": 3,
   "id": "9a443f83",
   "metadata": {},
   "outputs": [],
   "source": [
    "# Create dataframe to store trade analytics\n",
    "analytics = pd.DataFrame(index=['Strategy'])"
   ]
  },
  {
   "cell_type": "markdown",
   "id": "8642900d",
   "metadata": {},
   "source": [
    "<a id='pnl'></a>\n",
    "### Profit and Loss \n",
    "The profit and loss metric is nothing but the sum of all the gains and losses that were incurred on all the trades. \n",
    "\n",
    "We will calculate the PnL using the `sum()` function on the column named `PnL` in our dataset. This will tell us if our strategy incurred an overall profit or loss. "
   ]
  },
  {
   "cell_type": "code",
   "execution_count": 4,
   "id": "412883a9",
   "metadata": {},
   "outputs": [
    {
     "name": "stdout",
     "output_type": "stream",
     "text": [
      "Total PnL:  57.73\n"
     ]
    }
   ],
   "source": [
    "# Calculate total PnL\n",
    "analytics['Total PnL'] = trades.PnL.sum() \n",
    "\n",
    "# Print the value\n",
    "print(\"Total PnL: \",analytics['Total PnL'][0])"
   ]
  },
  {
   "cell_type": "markdown",
   "id": "8103f3dc",
   "metadata": {},
   "source": [
    "The value returned is positive, which indicates that the strategy earned a total profit of around $57.73. However, we cannot measure a strategy's success just on the basis of `Pnl`, as it provides no information regarding the number of trades and win percentage to better evaluate the strategy.\n",
    "\n",
    "<a id='win'></a>\n",
    "### Win Percentage\n",
    "The win percentage or win rate is an essential metric. It represents the percentage of trades which were profitable out of the total trades, to determine a strategy's success. A win rate above 50% is usually favourable.\n",
    "\n",
    "Calculating the win percentage takes the number of profitable trades divided by the total number of trades as shown below. \n",
    "\n",
    "$$ Win~Rate = \\frac{No.~of~Winning~Trades}{Total~No.~of~Trades} *100$$\n",
    "\n",
    "Similarly, we can also calculate the Loss Percentage by taking the number of losing trades divided by the total number of trades. First, let's find the total number of long and short trades we have made from the strategy. "
   ]
  },
  {
   "cell_type": "code",
   "execution_count": 5,
   "id": "90019927",
   "metadata": {},
   "outputs": [],
   "source": [
    "# Number of total trades\n",
    "analytics['total_trades'] = len(trades)"
   ]
  },
  {
   "cell_type": "markdown",
   "id": "d2310f97",
   "metadata": {},
   "source": [
    "Next, we will find the number of winners and losers. Trades that gave us a profit i.e. `Pnl`>0 are winning trades. Trades that gave us a loss or no profit i.e. `Pnl`<=0 are losing trades. "
   ]
  },
  {
   "cell_type": "code",
   "execution_count": 6,
   "id": "c5de3da8",
   "metadata": {},
   "outputs": [],
   "source": [
    "# Profitable trades\n",
    "analytics['Number of Winners'] = len(trades.loc[trades.PnL>0])\n",
    "\n",
    "# Loss-making trades\n",
    "analytics['Number of Losers'] = len(trades.loc[trades.PnL<=0])"
   ]
  },
  {
   "cell_type": "markdown",
   "id": "eaf40979",
   "metadata": {},
   "source": [
    "Now applying the formula discussed earlier, we can calculate the win and loss percentages, respectively. "
   ]
  },
  {
   "cell_type": "code",
   "execution_count": 7,
   "id": "126535d1",
   "metadata": {},
   "outputs": [
    {
     "data": {
      "text/html": [
       "<div>\n",
       "<style scoped>\n",
       "    .dataframe tbody tr th:only-of-type {\n",
       "        vertical-align: middle;\n",
       "    }\n",
       "\n",
       "    .dataframe tbody tr th {\n",
       "        vertical-align: top;\n",
       "    }\n",
       "\n",
       "    .dataframe thead th {\n",
       "        text-align: right;\n",
       "    }\n",
       "</style>\n",
       "<table border=\"1\" class=\"dataframe\">\n",
       "  <thead>\n",
       "    <tr style=\"text-align: right;\">\n",
       "      <th></th>\n",
       "      <th>Strategy</th>\n",
       "    </tr>\n",
       "  </thead>\n",
       "  <tbody>\n",
       "    <tr>\n",
       "      <th>Total PnL</th>\n",
       "      <td>57.730000</td>\n",
       "    </tr>\n",
       "    <tr>\n",
       "      <th>total_trades</th>\n",
       "      <td>33.000000</td>\n",
       "    </tr>\n",
       "    <tr>\n",
       "      <th>Number of Winners</th>\n",
       "      <td>25.000000</td>\n",
       "    </tr>\n",
       "    <tr>\n",
       "      <th>Number of Losers</th>\n",
       "      <td>8.000000</td>\n",
       "    </tr>\n",
       "    <tr>\n",
       "      <th>Win (%)</th>\n",
       "      <td>75.757576</td>\n",
       "    </tr>\n",
       "    <tr>\n",
       "      <th>Loss (%)</th>\n",
       "      <td>24.242424</td>\n",
       "    </tr>\n",
       "  </tbody>\n",
       "</table>\n",
       "</div>"
      ],
      "text/plain": [
       "                    Strategy\n",
       "Total PnL          57.730000\n",
       "total_trades       33.000000\n",
       "Number of Winners  25.000000\n",
       "Number of Losers    8.000000\n",
       "Win (%)            75.757576\n",
       "Loss (%)           24.242424"
      ]
     },
     "execution_count": 7,
     "metadata": {},
     "output_type": "execute_result"
    }
   ],
   "source": [
    "# Win percentage\n",
    "analytics['Win (%)'] = 100*analytics['Number of Winners']/analytics.total_trades\n",
    "\n",
    "# Loss percentage\n",
    "analytics['Loss (%)'] = 100*analytics['Number of Losers']/analytics.total_trades\n",
    "\n",
    "analytics.T"
   ]
  },
  {
   "cell_type": "markdown",
   "id": "a16552d0",
   "metadata": {},
   "source": [
    "The win percentage comes out to be 75.75%. This indicates that we have a considerable number of trades which were profitable. But around 24.24% of total trades were unsuccessful. <br>\n",
    "<b>Does this mean our strategy did not perform well?</b><br>\n",
    "\n",
    "Not necessarily. A win rate around 50% or even below 50% does not always imply that our strategy failed to make money. \n",
    "It may sound logical that you can only make money if you have more winners than losers, but this is not always true. If your winners are giving much higher returns than your losers then you can still make good profits with a relatively low win rate. \n",
    "\n",
    "<a id='avg'></a>\n",
    "### Average PnL Per Trade\n",
    "The average PnL per trade is used to find the average amount that you can expect to gain or lose on each trade. This metric tells us how much impact a winning or losing trade might have. In general, we want the average loss per losing trade to be as low as possible and the average profit per winning trade as high as possible. For example, if your average loss per losing trade is 3x your average profit per winning trade then that means that a single loser will wipe out the profits of 3 winners.\n",
    "\n",
    "You can determine the average profit per winning trade by dividing the sum amount of all the profit by the number of winning trades.\n",
    "\n",
    "$$ Average~Profit~Per~Winning~Trade = \\frac{Total~Profit~made~by~all~Winners}{No.~of~Winning~Trades} $$\n",
    "\n",
    "Similarly, you can find average loss per losing trade by dividing the sum of all the losses by the number of losing trades.\n"
   ]
  },
  {
   "cell_type": "code",
   "execution_count": 8,
   "id": "2aca2a32",
   "metadata": {},
   "outputs": [
    {
     "data": {
      "text/html": [
       "<div>\n",
       "<style scoped>\n",
       "    .dataframe tbody tr th:only-of-type {\n",
       "        vertical-align: middle;\n",
       "    }\n",
       "\n",
       "    .dataframe tbody tr th {\n",
       "        vertical-align: top;\n",
       "    }\n",
       "\n",
       "    .dataframe thead th {\n",
       "        text-align: right;\n",
       "    }\n",
       "</style>\n",
       "<table border=\"1\" class=\"dataframe\">\n",
       "  <thead>\n",
       "    <tr style=\"text-align: right;\">\n",
       "      <th></th>\n",
       "      <th>Strategy</th>\n",
       "    </tr>\n",
       "  </thead>\n",
       "  <tbody>\n",
       "    <tr>\n",
       "      <th>Total PnL</th>\n",
       "      <td>57.730000</td>\n",
       "    </tr>\n",
       "    <tr>\n",
       "      <th>total_trades</th>\n",
       "      <td>33.000000</td>\n",
       "    </tr>\n",
       "    <tr>\n",
       "      <th>Number of Winners</th>\n",
       "      <td>25.000000</td>\n",
       "    </tr>\n",
       "    <tr>\n",
       "      <th>Number of Losers</th>\n",
       "      <td>8.000000</td>\n",
       "    </tr>\n",
       "    <tr>\n",
       "      <th>Win (%)</th>\n",
       "      <td>75.757576</td>\n",
       "    </tr>\n",
       "    <tr>\n",
       "      <th>Loss (%)</th>\n",
       "      <td>24.242424</td>\n",
       "    </tr>\n",
       "    <tr>\n",
       "      <th>per_trade_PnL_winners</th>\n",
       "      <td>4.466800</td>\n",
       "    </tr>\n",
       "    <tr>\n",
       "      <th>per_trade_PnL_losers</th>\n",
       "      <td>6.742500</td>\n",
       "    </tr>\n",
       "  </tbody>\n",
       "</table>\n",
       "</div>"
      ],
      "text/plain": [
       "                        Strategy\n",
       "Total PnL              57.730000\n",
       "total_trades           33.000000\n",
       "Number of Winners      25.000000\n",
       "Number of Losers        8.000000\n",
       "Win (%)                75.757576\n",
       "Loss (%)               24.242424\n",
       "per_trade_PnL_winners   4.466800\n",
       "per_trade_PnL_losers    6.742500"
      ]
     },
     "execution_count": 8,
     "metadata": {},
     "output_type": "execute_result"
    }
   ],
   "source": [
    "# Per trade profit/loss of winning trades\n",
    "analytics['per_trade_PnL_winners'] = trades.loc[trades.PnL>0].PnL.mean()\n",
    "\n",
    "# Per trade profit/loss of losing trades\n",
    "analytics['per_trade_PnL_losers'] = np.abs(trades.loc[trades.PnL<=0].PnL.mean())\n",
    "\n",
    "analytics.T"
   ]
  },
  {
   "cell_type": "markdown",
   "id": "a20c4e64",
   "metadata": {},
   "source": [
    "<a id='time'></a>\n",
    "### Average Trade Duration\n",
    "The average trade duration, also known as the average holding period, is the amount of time you remain in a trade on average. This is important because your capital is ‘locked’ during the time of the trade and cannot be used for other trades. That way it limits the number of trades you can take simultaneously. Hence, limiting your potential to increase profits. Another risk of a long holding period is the release of important news or earning reports. This can violently change the market and may result in a losing trade. We will learn to handle such changes in the risk management section later in this course. \n",
    "\n",
    "Conversely, a short holding period is also not favourable, as it results in higher transaction costs and may eat away at your profits. \n",
    "\n",
    "To calculate the average trade duration we first calculate the holding period per trade i.e. `Exit Date` - `Entry Date`. Next, we calculate the mean of the holding time using the `mean()` method. "
   ]
  },
  {
   "cell_type": "code",
   "execution_count": 9,
   "id": "76d6382c",
   "metadata": {},
   "outputs": [
    {
     "data": {
      "text/html": [
       "<div>\n",
       "<style scoped>\n",
       "    .dataframe tbody tr th:only-of-type {\n",
       "        vertical-align: middle;\n",
       "    }\n",
       "\n",
       "    .dataframe tbody tr th {\n",
       "        vertical-align: top;\n",
       "    }\n",
       "\n",
       "    .dataframe thead th {\n",
       "        text-align: right;\n",
       "    }\n",
       "</style>\n",
       "<table border=\"1\" class=\"dataframe\">\n",
       "  <thead>\n",
       "    <tr style=\"text-align: right;\">\n",
       "      <th></th>\n",
       "      <th>Strategy</th>\n",
       "    </tr>\n",
       "  </thead>\n",
       "  <tbody>\n",
       "    <tr>\n",
       "      <th>Total PnL</th>\n",
       "      <td>57.73</td>\n",
       "    </tr>\n",
       "    <tr>\n",
       "      <th>total_trades</th>\n",
       "      <td>33</td>\n",
       "    </tr>\n",
       "    <tr>\n",
       "      <th>Number of Winners</th>\n",
       "      <td>25</td>\n",
       "    </tr>\n",
       "    <tr>\n",
       "      <th>Number of Losers</th>\n",
       "      <td>8</td>\n",
       "    </tr>\n",
       "    <tr>\n",
       "      <th>Win (%)</th>\n",
       "      <td>75.757576</td>\n",
       "    </tr>\n",
       "    <tr>\n",
       "      <th>Loss (%)</th>\n",
       "      <td>24.242424</td>\n",
       "    </tr>\n",
       "    <tr>\n",
       "      <th>per_trade_PnL_winners</th>\n",
       "      <td>4.4668</td>\n",
       "    </tr>\n",
       "    <tr>\n",
       "      <th>per_trade_PnL_losers</th>\n",
       "      <td>6.7425</td>\n",
       "    </tr>\n",
       "    <tr>\n",
       "      <th>Average holding time</th>\n",
       "      <td>13 days 22:32:43.636363636</td>\n",
       "    </tr>\n",
       "  </tbody>\n",
       "</table>\n",
       "</div>"
      ],
      "text/plain": [
       "                                         Strategy\n",
       "Total PnL                                   57.73\n",
       "total_trades                                   33\n",
       "Number of Winners                              25\n",
       "Number of Losers                                8\n",
       "Win (%)                                 75.757576\n",
       "Loss (%)                                24.242424\n",
       "per_trade_PnL_winners                      4.4668\n",
       "per_trade_PnL_losers                       6.7425\n",
       "Average holding time   13 days 22:32:43.636363636"
      ]
     },
     "execution_count": 9,
     "metadata": {},
     "output_type": "execute_result"
    }
   ],
   "source": [
    "# Convert entry time and exit time to datetime format\n",
    "trades['Entry Date'] = pd.to_datetime(trades['Entry_Date'])\n",
    "trades['Exit Date'] = pd.to_datetime(trades['Exit_Date'])\n",
    "\n",
    "# Calculate holding period for each trade\n",
    "holding_period = trades['Exit Date'] - trades['Entry Date']\n",
    "\n",
    "# Calculate their mean\n",
    "analytics['Average holding time'] = holding_period.mean()\n",
    "\n",
    "analytics.T"
   ]
  },
  {
   "cell_type": "markdown",
   "id": "cd78eae5",
   "metadata": {},
   "source": [
    "We get the average holding period as 13 days and 22 hours which is approximately 14 days. This is neither too large for sudden market changes nor too small for high transaction costs. \n",
    "<a id='profit'></a>\n",
    "### Profit Factor\n",
    "The profit factor measures the amount of money made against the money lost while trading. \n",
    "It is the ratio of the sum of profit to the sum of loss. It can also be calculated with following formula: \n",
    "\n",
    "$$ Profit~Factor = \\frac{~Win~Percentage~*~Average~Profit~Per~Winning~Trade}{~Loss~Percentage~*~Average~Loss~Per~Losing~Trade} $$\n",
    "\n",
    "Ideally a profit factor greater than 1 is desired. Anything below one is considered as unsatisfactory performance. There is a grading system for the profit factor to help you analyse the performance of your strategy. \n",
    "\n",
    "|S.No | Profit Factor | Interpretation    |\n",
    "|---:|:-------------|:-----------|\n",
    "| 1 | Below 1  | Strategy is unprofitable |\n",
    "| 2 | Equal to 1  | Capital at the time of exit is same as capital at time of entry | \n",
    "| 3 | Between 1.10 and 1.40 | Strategy provides average returns, but may not withstand high volatility | \n",
    "| 4 | Between 1.40 and 2.0 | Strategy is decent | \n",
    "| 5 | Equal to or greater than 2  | Strategy is excellent | "
   ]
  },
  {
   "cell_type": "code",
   "execution_count": 10,
   "id": "c4dae659",
   "metadata": {
    "scrolled": true
   },
   "outputs": [
    {
     "data": {
      "text/html": [
       "<div>\n",
       "<style scoped>\n",
       "    .dataframe tbody tr th:only-of-type {\n",
       "        vertical-align: middle;\n",
       "    }\n",
       "\n",
       "    .dataframe tbody tr th {\n",
       "        vertical-align: top;\n",
       "    }\n",
       "\n",
       "    .dataframe thead th {\n",
       "        text-align: right;\n",
       "    }\n",
       "</style>\n",
       "<table border=\"1\" class=\"dataframe\">\n",
       "  <thead>\n",
       "    <tr style=\"text-align: right;\">\n",
       "      <th></th>\n",
       "      <th>Strategy</th>\n",
       "    </tr>\n",
       "  </thead>\n",
       "  <tbody>\n",
       "    <tr>\n",
       "      <th>Total PnL</th>\n",
       "      <td>57.73</td>\n",
       "    </tr>\n",
       "    <tr>\n",
       "      <th>total_trades</th>\n",
       "      <td>33</td>\n",
       "    </tr>\n",
       "    <tr>\n",
       "      <th>Number of Winners</th>\n",
       "      <td>25</td>\n",
       "    </tr>\n",
       "    <tr>\n",
       "      <th>Number of Losers</th>\n",
       "      <td>8</td>\n",
       "    </tr>\n",
       "    <tr>\n",
       "      <th>Win (%)</th>\n",
       "      <td>75.757576</td>\n",
       "    </tr>\n",
       "    <tr>\n",
       "      <th>Loss (%)</th>\n",
       "      <td>24.242424</td>\n",
       "    </tr>\n",
       "    <tr>\n",
       "      <th>per_trade_PnL_winners</th>\n",
       "      <td>4.4668</td>\n",
       "    </tr>\n",
       "    <tr>\n",
       "      <th>per_trade_PnL_losers</th>\n",
       "      <td>6.7425</td>\n",
       "    </tr>\n",
       "    <tr>\n",
       "      <th>Average holding time</th>\n",
       "      <td>13 days 22:32:43.636363636</td>\n",
       "    </tr>\n",
       "    <tr>\n",
       "      <th>Profit Factor</th>\n",
       "      <td>2.070263</td>\n",
       "    </tr>\n",
       "  </tbody>\n",
       "</table>\n",
       "</div>"
      ],
      "text/plain": [
       "                                         Strategy\n",
       "Total PnL                                   57.73\n",
       "total_trades                                   33\n",
       "Number of Winners                              25\n",
       "Number of Losers                                8\n",
       "Win (%)                                 75.757576\n",
       "Loss (%)                                24.242424\n",
       "per_trade_PnL_winners                      4.4668\n",
       "per_trade_PnL_losers                       6.7425\n",
       "Average holding time   13 days 22:32:43.636363636\n",
       "Profit Factor                            2.070263"
      ]
     },
     "execution_count": 10,
     "metadata": {},
     "output_type": "execute_result"
    }
   ],
   "source": [
    "# Calculate profit factor\n",
    "analytics['Profit Factor'] = (analytics['Win (%)']/100*analytics['per_trade_PnL_winners'])/(analytics['Loss (%)']/100*analytics['per_trade_PnL_losers'])\n",
    "\n",
    "analytics.T"
   ]
  },
  {
   "cell_type": "markdown",
   "id": "4fc15110",
   "metadata": {},
   "source": [
    "Thus the profit factor comes out to be `2.07`. This means our strategy has gained `2.07` dollars for every lost dollar.\n",
    "\n",
    "## Conclusion\n",
    "In this notebook, we learned how to use a few trading metrics to analyse our trading strategy. These analytics help you find how the strategy has performed after the trade has been executed. However, it is also important to measure how the strategy has performed within the trade. We will evaluate this in the next notebook with the help of some performance metrics. <br><br>"
   ]
  }
 ],
 "metadata": {
  "kernelspec": {
   "display_name": "Python 3 (ipykernel)",
   "language": "python",
   "name": "python3"
  },
  "language_info": {
   "codemirror_mode": {
    "name": "ipython",
    "version": 3
   },
   "file_extension": ".py",
   "mimetype": "text/x-python",
   "name": "python",
   "nbconvert_exporter": "python",
   "pygments_lexer": "ipython3",
   "version": "3.9.5"
  }
 },
 "nbformat": 4,
 "nbformat_minor": 5
}
